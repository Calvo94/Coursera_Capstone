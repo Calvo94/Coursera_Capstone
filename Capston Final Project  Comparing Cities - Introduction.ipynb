{
 "cells": [
  {
   "cell_type": "markdown",
   "metadata": {},
   "source": [
    "# Final Project Capstone : Comparing Cities - Introduction"
   ]
  },
  {
   "cell_type": "markdown",
   "metadata": {},
   "source": [
    "I'm Saiid MANSOURI AZZOUZI, from Morocco, 26 years old, I was an Electromechanical engineer, but when I've heard about data science I decided to start a new career.    Actually I'm a data engineer, I do some ingestion and transformation but I'm aiming to become a data scientist. Because I see Data science as the art of making a usefull story from data."
   ]
  },
  {
   "cell_type": "markdown",
   "metadata": {},
   "source": [
    "## Introductory section"
   ]
  },
  {
   "cell_type": "markdown",
   "metadata": {},
   "source": [
    "Well in each city in the world has a lot of Neighborhood, and each one has its structure based on their avenues. Having a neighborhood doesn’t mean that you can know it’s city, and this is the major question we’re going to ask. Can we predict the city of a neighborhood based on its avenues?\n",
    "Our study will be based on 3 cities: New York, Toronto and Paris.\n",
    "\n",
    "Both cities are very diverse and are the financial capitals of their respective countries.\n",
    "So we will study them and after we will try to predict the city of some neighborhood."
   ]
  },
  {
   "cell_type": "markdown",
   "metadata": {},
   "source": [
    "## Methodology section"
   ]
  },
  {
   "cell_type": "markdown",
   "metadata": {},
   "source": [
    "First we will extract data from New York City, Toronto, Paris. \n",
    "cleaning them and organizing them as used in week 3.\n",
    "And try to study our data\n",
    "and after we will use our model in Toronto, Paris and New York."
   ]
  }
 ],
 "metadata": {
  "kernelspec": {
   "display_name": "Python 3",
   "language": "python",
   "name": "python3"
  },
  "language_info": {
   "codemirror_mode": {
    "name": "ipython",
    "version": 3
   },
   "file_extension": ".py",
   "mimetype": "text/x-python",
   "name": "python",
   "nbconvert_exporter": "python",
   "pygments_lexer": "ipython3",
   "version": "3.8.2"
  }
 },
 "nbformat": 4,
 "nbformat_minor": 4
}
