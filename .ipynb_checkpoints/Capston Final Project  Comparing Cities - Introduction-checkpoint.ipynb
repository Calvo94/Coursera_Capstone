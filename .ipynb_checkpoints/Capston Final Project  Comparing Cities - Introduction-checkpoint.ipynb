{
 "cells": [
  {
   "cell_type": "markdown",
   "metadata": {},
   "source": [
    "# Final Project Capstone : Comparing Cities - Introduction"
   ]
  },
  {
   "cell_type": "markdown",
   "metadata": {},
   "source": [
    "I'm Saiid MANSOURI AZZOUZI, from Morocco, 26 years old, I was an Electromechanical engineer, but when I've heard about data science I decided to start a new career.    Actually I'm a data engineer, I do some ingestion and transformation but I'm aiming to become a data scientist. Because I see Data science as the art of making a usefull story from data."
   ]
  },
  {
   "cell_type": "markdown",
   "metadata": {},
   "source": [
    "## Introductory section"
   ]
  },
  {
   "cell_type": "markdown",
   "metadata": {},
   "source": [
    "Comparing cities is a difficult task, and to answer the question what city is more similar to a specific one is harder:\n",
    "which city is more similar to New York City , paris or Toronto or another city ? \n",
    "Both cities are very diverse and are the financial capitals of their respective countries.\n",
    "\n",
    "First we need to define in what basis we would compare our cities :\n",
    "One interesting idea would be to compare the neighborhoods of the two cities and determine how similar or dissimilar they are."
   ]
  },
  {
   "cell_type": "markdown",
   "metadata": {},
   "source": [
    "## Methodology section"
   ]
  },
  {
   "cell_type": "markdown",
   "metadata": {},
   "source": [
    "First we will extract data from New York City , Toronto , Paris. cleaning them and organizing them as used in week 3.\n",
    "Then we will use clustering on New York City, we will make the clustering fit the New York Cities Avenues.\n",
    "and after we will use our model in Toronto and Paris to see which city look like New York.\n",
    "\n",
    "My code will be in form of bloc so it can be reussable and the use of another cities will be easy."
   ]
  },
  {
   "cell_type": "code",
   "execution_count": null,
   "metadata": {},
   "outputs": [],
   "source": []
  },
  {
   "cell_type": "code",
   "execution_count": null,
   "metadata": {},
   "outputs": [],
   "source": []
  },
  {
   "cell_type": "code",
   "execution_count": null,
   "metadata": {},
   "outputs": [],
   "source": []
  },
  {
   "cell_type": "code",
   "execution_count": null,
   "metadata": {},
   "outputs": [],
   "source": []
  },
  {
   "cell_type": "code",
   "execution_count": null,
   "metadata": {},
   "outputs": [],
   "source": []
  },
  {
   "cell_type": "code",
   "execution_count": null,
   "metadata": {},
   "outputs": [],
   "source": []
  },
  {
   "cell_type": "code",
   "execution_count": null,
   "metadata": {},
   "outputs": [],
   "source": []
  }
 ],
 "metadata": {
  "kernelspec": {
   "display_name": "Python 3",
   "language": "python",
   "name": "python3"
  },
  "language_info": {
   "codemirror_mode": {
    "name": "ipython",
    "version": 3
   },
   "file_extension": ".py",
   "mimetype": "text/x-python",
   "name": "python",
   "nbconvert_exporter": "python",
   "pygments_lexer": "ipython3",
   "version": "3.8.2"
  }
 },
 "nbformat": 4,
 "nbformat_minor": 4
}
